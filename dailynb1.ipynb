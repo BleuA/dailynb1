{
 "cells": [
  {
   "cell_type": "markdown",
   "id": "0b77ea1e",
   "metadata": {},
   "source": [
    "# Daily Notebook #1"
   ]
  },
  {
   "cell_type": "markdown",
   "id": "b2b2a92c",
   "metadata": {},
   "source": [
    "### Current State"
   ]
  },
  {
   "cell_type": "markdown",
   "id": "af78e63f",
   "metadata": {},
   "source": [
    "- Current Course: Data Analyst in Python: Data Manipulation\n",
    "- Todays Notes: learned various basics of data manipulation. I am already comfortable with most of it, but using the notebook today to practice.\n",
    "\n"
   ]
  },
  {
   "cell_type": "markdown",
   "id": "3f953e15",
   "metadata": {},
   "source": [
    "### Goals"
   ]
  },
  {
   "cell_type": "markdown",
   "id": "5b573292",
   "metadata": {},
   "source": [
    "- The main goal is to code/analyze data everyday. Over the years I have chipped away at schooling and courses, but dont keep up to date with skills as much as I should. \n",
    "- Also: Want to get more comfortable in the notebooks/github process. have not used github very much, want to change that with this project\n",
    "- Overall, keeping the notebooks/formatting very quick and simple. The goal is to code, not to format every single detail."
   ]
  },
  {
   "cell_type": "markdown",
   "id": "74aaa812",
   "metadata": {},
   "source": [
    "### Dataset for today"
   ]
  },
  {
   "cell_type": "markdown",
   "id": "c43b910c",
   "metadata": {},
   "source": [
    " Choclate Sales Data - https://www.kaggle.com/datasets/atharvasoundankar/chocolate-sales\n",
    "\n",
    "Reason for choosing - Wanted a general sales type dataset to work with to practice all of the pandas that im brushing up on"
   ]
  },
  {
   "cell_type": "markdown",
   "id": "64385575",
   "metadata": {},
   "source": [
    "### Code"
   ]
  },
  {
   "cell_type": "code",
   "execution_count": 1,
   "id": "27c74ac8",
   "metadata": {},
   "outputs": [],
   "source": [
    "import pandas as pd\n",
    "import matplotlib.pyplot as plt"
   ]
  },
  {
   "cell_type": "code",
   "execution_count": 2,
   "id": "3610018c",
   "metadata": {},
   "outputs": [],
   "source": [
    "#reading in data\n",
    "choc_sales = pd.read_csv(\"Chocolate Sales.csv\")"
   ]
  },
  {
   "cell_type": "code",
   "execution_count": 3,
   "id": "795c0e64",
   "metadata": {},
   "outputs": [
    {
     "data": {
      "text/html": [
       "<div>\n",
       "<style scoped>\n",
       "    .dataframe tbody tr th:only-of-type {\n",
       "        vertical-align: middle;\n",
       "    }\n",
       "\n",
       "    .dataframe tbody tr th {\n",
       "        vertical-align: top;\n",
       "    }\n",
       "\n",
       "    .dataframe thead th {\n",
       "        text-align: right;\n",
       "    }\n",
       "</style>\n",
       "<table border=\"1\" class=\"dataframe\">\n",
       "  <thead>\n",
       "    <tr style=\"text-align: right;\">\n",
       "      <th></th>\n",
       "      <th>Sales Person</th>\n",
       "      <th>Country</th>\n",
       "      <th>Product</th>\n",
       "      <th>Date</th>\n",
       "      <th>Amount</th>\n",
       "      <th>Boxes Shipped</th>\n",
       "    </tr>\n",
       "  </thead>\n",
       "  <tbody>\n",
       "    <tr>\n",
       "      <th>0</th>\n",
       "      <td>Jehu Rudeforth</td>\n",
       "      <td>UK</td>\n",
       "      <td>Mint Chip Choco</td>\n",
       "      <td>04-Jan-22</td>\n",
       "      <td>$5,320</td>\n",
       "      <td>180</td>\n",
       "    </tr>\n",
       "    <tr>\n",
       "      <th>1</th>\n",
       "      <td>Van Tuxwell</td>\n",
       "      <td>India</td>\n",
       "      <td>85% Dark Bars</td>\n",
       "      <td>01-Aug-22</td>\n",
       "      <td>$7,896</td>\n",
       "      <td>94</td>\n",
       "    </tr>\n",
       "    <tr>\n",
       "      <th>2</th>\n",
       "      <td>Gigi Bohling</td>\n",
       "      <td>India</td>\n",
       "      <td>Peanut Butter Cubes</td>\n",
       "      <td>07-Jul-22</td>\n",
       "      <td>$4,501</td>\n",
       "      <td>91</td>\n",
       "    </tr>\n",
       "    <tr>\n",
       "      <th>3</th>\n",
       "      <td>Jan Morforth</td>\n",
       "      <td>Australia</td>\n",
       "      <td>Peanut Butter Cubes</td>\n",
       "      <td>27-Apr-22</td>\n",
       "      <td>$12,726</td>\n",
       "      <td>342</td>\n",
       "    </tr>\n",
       "    <tr>\n",
       "      <th>4</th>\n",
       "      <td>Jehu Rudeforth</td>\n",
       "      <td>UK</td>\n",
       "      <td>Peanut Butter Cubes</td>\n",
       "      <td>24-Feb-22</td>\n",
       "      <td>$13,685</td>\n",
       "      <td>184</td>\n",
       "    </tr>\n",
       "  </tbody>\n",
       "</table>\n",
       "</div>"
      ],
      "text/plain": [
       "     Sales Person    Country              Product       Date    Amount  \\\n",
       "0  Jehu Rudeforth         UK      Mint Chip Choco  04-Jan-22   $5,320    \n",
       "1     Van Tuxwell      India        85% Dark Bars  01-Aug-22   $7,896    \n",
       "2    Gigi Bohling      India  Peanut Butter Cubes  07-Jul-22   $4,501    \n",
       "3    Jan Morforth  Australia  Peanut Butter Cubes  27-Apr-22  $12,726    \n",
       "4  Jehu Rudeforth         UK  Peanut Butter Cubes  24-Feb-22  $13,685    \n",
       "\n",
       "   Boxes Shipped  \n",
       "0            180  \n",
       "1             94  \n",
       "2             91  \n",
       "3            342  \n",
       "4            184  "
      ]
     },
     "execution_count": 3,
     "metadata": {},
     "output_type": "execute_result"
    }
   ],
   "source": [
    "#getting a feel for the data with various high level pandas functions\n",
    "choc_sales.head()"
   ]
  },
  {
   "cell_type": "code",
   "execution_count": 4,
   "id": "14ede607",
   "metadata": {},
   "outputs": [
    {
     "name": "stdout",
     "output_type": "stream",
     "text": [
      "<class 'pandas.core.frame.DataFrame'>\n",
      "RangeIndex: 1094 entries, 0 to 1093\n",
      "Data columns (total 6 columns):\n",
      " #   Column         Non-Null Count  Dtype \n",
      "---  ------         --------------  ----- \n",
      " 0   Sales Person   1094 non-null   object\n",
      " 1   Country        1094 non-null   object\n",
      " 2   Product        1094 non-null   object\n",
      " 3   Date           1094 non-null   object\n",
      " 4   Amount         1094 non-null   object\n",
      " 5   Boxes Shipped  1094 non-null   int64 \n",
      "dtypes: int64(1), object(5)\n",
      "memory usage: 51.4+ KB\n"
     ]
    }
   ],
   "source": [
    "choc_sales.info()"
   ]
  },
  {
   "cell_type": "markdown",
   "id": "059da2a7",
   "metadata": {},
   "source": [
    "Noting here that we are going to have to clean up the date to a standard format (Year - Month - Day), and we are going to have to clean up the Amount column to a numerical values"
   ]
  },
  {
   "cell_type": "code",
   "execution_count": 5,
   "id": "d859454b",
   "metadata": {},
   "outputs": [
    {
     "data": {
      "text/plain": [
       "(1094, 6)"
      ]
     },
     "execution_count": 5,
     "metadata": {},
     "output_type": "execute_result"
    }
   ],
   "source": [
    "choc_sales.shape"
   ]
  },
  {
   "cell_type": "markdown",
   "id": "132f2f39",
   "metadata": {},
   "source": [
    "### Plan"
   ]
  },
  {
   "cell_type": "markdown",
   "id": "44e492b7",
   "metadata": {},
   "source": [
    "- Clean the amount column\n",
    "- Clean the date column\n",
    "- Use ChatGPT to create some practice questions for me, and hopefully expand where I can"
   ]
  },
  {
   "cell_type": "markdown",
   "id": "b002f447",
   "metadata": {},
   "source": [
    "### Data Cleaning"
   ]
  },
  {
   "cell_type": "code",
   "execution_count": 6,
   "id": "9ca42299",
   "metadata": {},
   "outputs": [],
   "source": [
    "# Cleaning the Date column\n",
    "\n",
    "#had to research to_datetime and figured out you pass the current format of the string, and pandas will do the conversion\n",
    "#used chat gpt to ask for a better way to writemy replace. I was chaining the replace and some some deprication errors. The regex syntax makes sense to me. \n",
    "choc_sales['Date'] = pd.to_datetime(choc_sales['Date'], format = '%d-%b-%y')\n",
    "choc_sales['Amount'] = pd.to_numeric(choc_sales['Amount'].str.replace(r'[$,]', '', regex = True))"
   ]
  },
  {
   "cell_type": "code",
   "execution_count": 7,
   "id": "8c005298",
   "metadata": {},
   "outputs": [
    {
     "name": "stdout",
     "output_type": "stream",
     "text": [
      "<class 'pandas.core.frame.DataFrame'>\n",
      "RangeIndex: 1094 entries, 0 to 1093\n",
      "Data columns (total 6 columns):\n",
      " #   Column         Non-Null Count  Dtype         \n",
      "---  ------         --------------  -----         \n",
      " 0   Sales Person   1094 non-null   object        \n",
      " 1   Country        1094 non-null   object        \n",
      " 2   Product        1094 non-null   object        \n",
      " 3   Date           1094 non-null   datetime64[ns]\n",
      " 4   Amount         1094 non-null   int64         \n",
      " 5   Boxes Shipped  1094 non-null   int64         \n",
      "dtypes: datetime64[ns](1), int64(2), object(3)\n",
      "memory usage: 51.4+ KB\n"
     ]
    }
   ],
   "source": [
    "choc_sales.info()"
   ]
  },
  {
   "cell_type": "markdown",
   "id": "ceaaf6ee",
   "metadata": {},
   "source": [
    "### Data Analysis"
   ]
  },
  {
   "cell_type": "markdown",
   "id": "12aea396",
   "metadata": {},
   "source": [
    "Summary Statistics"
   ]
  },
  {
   "cell_type": "code",
   "execution_count": 8,
   "id": "c9011178",
   "metadata": {},
   "outputs": [
    {
     "data": {
      "text/html": [
       "<div>\n",
       "<style scoped>\n",
       "    .dataframe tbody tr th:only-of-type {\n",
       "        vertical-align: middle;\n",
       "    }\n",
       "\n",
       "    .dataframe tbody tr th {\n",
       "        vertical-align: top;\n",
       "    }\n",
       "\n",
       "    .dataframe thead th {\n",
       "        text-align: right;\n",
       "    }\n",
       "</style>\n",
       "<table border=\"1\" class=\"dataframe\">\n",
       "  <thead>\n",
       "    <tr style=\"text-align: right;\">\n",
       "      <th></th>\n",
       "      <th>Amount</th>\n",
       "      <th>Boxes Shipped</th>\n",
       "    </tr>\n",
       "  </thead>\n",
       "  <tbody>\n",
       "    <tr>\n",
       "      <th>count</th>\n",
       "      <td>1094.000000</td>\n",
       "      <td>1094.000000</td>\n",
       "    </tr>\n",
       "    <tr>\n",
       "      <th>mean</th>\n",
       "      <td>5652.308044</td>\n",
       "      <td>161.797989</td>\n",
       "    </tr>\n",
       "    <tr>\n",
       "      <th>std</th>\n",
       "      <td>4102.442014</td>\n",
       "      <td>121.544145</td>\n",
       "    </tr>\n",
       "    <tr>\n",
       "      <th>min</th>\n",
       "      <td>7.000000</td>\n",
       "      <td>1.000000</td>\n",
       "    </tr>\n",
       "    <tr>\n",
       "      <th>25%</th>\n",
       "      <td>2390.500000</td>\n",
       "      <td>70.000000</td>\n",
       "    </tr>\n",
       "    <tr>\n",
       "      <th>50%</th>\n",
       "      <td>4868.500000</td>\n",
       "      <td>135.000000</td>\n",
       "    </tr>\n",
       "    <tr>\n",
       "      <th>75%</th>\n",
       "      <td>8027.250000</td>\n",
       "      <td>228.750000</td>\n",
       "    </tr>\n",
       "    <tr>\n",
       "      <th>max</th>\n",
       "      <td>22050.000000</td>\n",
       "      <td>709.000000</td>\n",
       "    </tr>\n",
       "  </tbody>\n",
       "</table>\n",
       "</div>"
      ],
      "text/plain": [
       "             Amount  Boxes Shipped\n",
       "count   1094.000000    1094.000000\n",
       "mean    5652.308044     161.797989\n",
       "std     4102.442014     121.544145\n",
       "min        7.000000       1.000000\n",
       "25%     2390.500000      70.000000\n",
       "50%     4868.500000     135.000000\n",
       "75%     8027.250000     228.750000\n",
       "max    22050.000000     709.000000"
      ]
     },
     "execution_count": 8,
     "metadata": {},
     "output_type": "execute_result"
    }
   ],
   "source": [
    "#High level summary stats for numberical columns\n",
    "choc_sales.describe()"
   ]
  },
  {
   "cell_type": "code",
   "execution_count": 9,
   "id": "b8fcdf83",
   "metadata": {},
   "outputs": [
    {
     "name": "stdout",
     "output_type": "stream",
     "text": [
      "Total Sales: $6,183,625\n",
      "Total Boxes sold: 177,007\n",
      "Revenue per Box: $35\n"
     ]
    }
   ],
   "source": [
    "#Thinking of higher level metrics/KPIs I wanted to start exploring our overall totals and also came up with rev per box. \n",
    "# Rev per box seems like it could be a possible metric this company uses, where higher rev per box could go up or down depending on sales of more premium product\n",
    "total_sales = choc_sales['Amount'].sum()\n",
    "total_boxes = choc_sales['Boxes Shipped'].sum()\n",
    "average_sales_per_box = total_sales / total_boxes\n",
    "\n",
    "print(\"Total Sales:\", f'${total_sales:,.0f}')\n",
    "print(\"Total Boxes sold:\", f'{total_boxes:,.0f}')\n",
    "print(\"Revenue per Box:\", f'${average_sales_per_box:.0f}')"
   ]
  },
  {
   "cell_type": "code",
   "execution_count": 10,
   "id": "aaf7b3b4",
   "metadata": {},
   "outputs": [],
   "source": [
    "#Next I want to practice some cum calculations. WIll do sales and # of boxes sold charts to see how we were selling over time\n",
    "#Need to setup dataframe as sorted to get this effect\n",
    "choc_sales = choc_sales.sort_values('Date', ascending = True)\n",
    "choc_sales['Cum Sales'] = choc_sales['Amount'].cumsum()\n",
    "choc_sales['Cum Boxes'] = choc_sales['Boxes Shipped'].cumsum()"
   ]
  },
  {
   "cell_type": "code",
   "execution_count": 27,
   "id": "d8409498",
   "metadata": {},
   "outputs": [
    {
     "data": {
      "image/png": "[encoded data removed]",
      "text/plain": [
       "<Figure size 640x480 with 1 Axes>"
      ]
     },
     "metadata": {},
     "output_type": "display_data"
    }
   ],
   "source": [
    "#matplotlib knowledge is pretty rough, but the jist is sales are super linear and clean - not a ton of huge jumps\n",
    "plt.style.use('ggplot')\n",
    "ax = choc_sales.plot.line(x='Date', y = 'Cum Sales')\n",
    "ax.set_title('Cumulative Chocolate Sales')\n",
    "ax.legend().remove()\n",
    "ax.grid(True)\n",
    "plt.show()"
   ]
  },
  {
   "cell_type": "code",
   "execution_count": 30,
   "id": "096823c4",
   "metadata": {},
   "outputs": [
    {
     "data": {
      "image/png": "[encoded data removed]",
      "text/plain": [
       "<Figure size 640x480 with 1 Axes>"
      ]
     },
     "metadata": {},
     "output_type": "display_data"
    }
   ],
   "source": [
    "#Same is true for boxes sold\n",
    "plt.style.use('ggplot')\n",
    "ax = choc_sales.plot.line(x='Date', y = 'Cum Boxes')\n",
    "ax.set_title('Cumulative Chocolate Boxes Sold')\n",
    "ax.legend().remove()\n",
    "ax.grid(True)\n",
    "plt.show()"
   ]
  },
  {
   "cell_type": "code",
   "execution_count": 55,
   "id": "22bd5774",
   "metadata": {},
   "outputs": [],
   "source": [
    "#creating a report of sales metrics per salesman\n",
    "#Very interesting groupby syntax I learned was you can name columns, note the agg column, and the aggregation to create multiple columns\n",
    "sales_df = choc_sales.groupby('Sales Person')[['Amount', 'Boxes Shipped']].agg(\n",
    "    total_sales = ('Amount', 'sum'), \n",
    "    total_boxes = ('Boxes Shipped', 'sum'), \n",
    "    sales_count = ('Amount', 'count')\n",
    ").reset_index()\n",
    "\n",
    "#purpose is to show how often salesman are selling premium products. If lots of sales, but rev per box low, then they are selling lots of low priced product or at discounts\n",
    "sales_df['rev_per_box'] = round(sales_df['total_sales'] / sales_df['total_boxes'])\n",
    "\n",
    "#purpose is to again a sales metric of sales performance. we want to differentiate between low amounts of sales but sales are high amounts, to high # of sales but lots of low amounts\n",
    "sales_df['rev_per_sale'] = round(sales_df['total_sales'] / sales_df['sales_count'])\n",
    "\n",
    "#Overall the sales metric could be built into KPIs for each salesman to hit a bonus etc"
   ]
  },
  {
   "cell_type": "code",
   "execution_count": 56,
   "id": "d876e055",
   "metadata": {},
   "outputs": [
    {
     "data": {
      "text/html": [
       "<div>\n",
       "<style scoped>\n",
       "    .dataframe tbody tr th:only-of-type {\n",
       "        vertical-align: middle;\n",
       "    }\n",
       "\n",
       "    .dataframe tbody tr th {\n",
       "        vertical-align: top;\n",
       "    }\n",
       "\n",
       "    .dataframe thead th {\n",
       "        text-align: right;\n",
       "    }\n",
       "</style>\n",
       "<table border=\"1\" class=\"dataframe\">\n",
       "  <thead>\n",
       "    <tr style=\"text-align: right;\">\n",
       "      <th></th>\n",
       "      <th>Sales Person</th>\n",
       "      <th>total_sales</th>\n",
       "      <th>total_boxes</th>\n",
       "      <th>sales_count</th>\n",
       "      <th>rev_per_box</th>\n",
       "      <th>rev_per_sale</th>\n",
       "    </tr>\n",
       "  </thead>\n",
       "  <tbody>\n",
       "    <tr>\n",
       "      <th>0</th>\n",
       "      <td>Andria Kimpton</td>\n",
       "      <td>201747</td>\n",
       "      <td>6448</td>\n",
       "      <td>39</td>\n",
       "      <td>31.0</td>\n",
       "      <td>5173.0</td>\n",
       "    </tr>\n",
       "    <tr>\n",
       "      <th>1</th>\n",
       "      <td>Barr Faughny</td>\n",
       "      <td>258713</td>\n",
       "      <td>6366</td>\n",
       "      <td>43</td>\n",
       "      <td>41.0</td>\n",
       "      <td>6017.0</td>\n",
       "    </tr>\n",
       "    <tr>\n",
       "      <th>2</th>\n",
       "      <td>Beverie Moffet</td>\n",
       "      <td>278922</td>\n",
       "      <td>9214</td>\n",
       "      <td>50</td>\n",
       "      <td>30.0</td>\n",
       "      <td>5578.0</td>\n",
       "    </tr>\n",
       "    <tr>\n",
       "      <th>3</th>\n",
       "      <td>Brien Boise</td>\n",
       "      <td>312816</td>\n",
       "      <td>8102</td>\n",
       "      <td>53</td>\n",
       "      <td>39.0</td>\n",
       "      <td>5902.0</td>\n",
       "    </tr>\n",
       "    <tr>\n",
       "      <th>4</th>\n",
       "      <td>Camilla Castle</td>\n",
       "      <td>196616</td>\n",
       "      <td>5374</td>\n",
       "      <td>32</td>\n",
       "      <td>37.0</td>\n",
       "      <td>6144.0</td>\n",
       "    </tr>\n",
       "    <tr>\n",
       "      <th>5</th>\n",
       "      <td>Ches Bonnell</td>\n",
       "      <td>320901</td>\n",
       "      <td>7522</td>\n",
       "      <td>48</td>\n",
       "      <td>43.0</td>\n",
       "      <td>6685.0</td>\n",
       "    </tr>\n",
       "    <tr>\n",
       "      <th>6</th>\n",
       "      <td>Curtice Advani</td>\n",
       "      <td>216461</td>\n",
       "      <td>7074</td>\n",
       "      <td>46</td>\n",
       "      <td>31.0</td>\n",
       "      <td>4706.0</td>\n",
       "    </tr>\n",
       "    <tr>\n",
       "      <th>7</th>\n",
       "      <td>Dennison Crosswaite</td>\n",
       "      <td>291669</td>\n",
       "      <td>8767</td>\n",
       "      <td>49</td>\n",
       "      <td>33.0</td>\n",
       "      <td>5952.0</td>\n",
       "    </tr>\n",
       "    <tr>\n",
       "      <th>8</th>\n",
       "      <td>Dotty Strutley</td>\n",
       "      <td>190624</td>\n",
       "      <td>6853</td>\n",
       "      <td>36</td>\n",
       "      <td>28.0</td>\n",
       "      <td>5295.0</td>\n",
       "    </tr>\n",
       "    <tr>\n",
       "      <th>9</th>\n",
       "      <td>Gigi Bohling</td>\n",
       "      <td>232666</td>\n",
       "      <td>6303</td>\n",
       "      <td>47</td>\n",
       "      <td>37.0</td>\n",
       "      <td>4950.0</td>\n",
       "    </tr>\n",
       "    <tr>\n",
       "      <th>10</th>\n",
       "      <td>Gunar Cockshoot</td>\n",
       "      <td>238483</td>\n",
       "      <td>6677</td>\n",
       "      <td>43</td>\n",
       "      <td>36.0</td>\n",
       "      <td>5546.0</td>\n",
       "    </tr>\n",
       "    <tr>\n",
       "      <th>11</th>\n",
       "      <td>Husein Augar</td>\n",
       "      <td>205212</td>\n",
       "      <td>5849</td>\n",
       "      <td>38</td>\n",
       "      <td>35.0</td>\n",
       "      <td>5400.0</td>\n",
       "    </tr>\n",
       "    <tr>\n",
       "      <th>12</th>\n",
       "      <td>Jan Morforth</td>\n",
       "      <td>219667</td>\n",
       "      <td>7661</td>\n",
       "      <td>39</td>\n",
       "      <td>29.0</td>\n",
       "      <td>5632.0</td>\n",
       "    </tr>\n",
       "    <tr>\n",
       "      <th>13</th>\n",
       "      <td>Jehu Rudeforth</td>\n",
       "      <td>220976</td>\n",
       "      <td>7246</td>\n",
       "      <td>43</td>\n",
       "      <td>30.0</td>\n",
       "      <td>5139.0</td>\n",
       "    </tr>\n",
       "    <tr>\n",
       "      <th>14</th>\n",
       "      <td>Kaine Padly</td>\n",
       "      <td>266490</td>\n",
       "      <td>7253</td>\n",
       "      <td>45</td>\n",
       "      <td>37.0</td>\n",
       "      <td>5922.0</td>\n",
       "    </tr>\n",
       "    <tr>\n",
       "      <th>15</th>\n",
       "      <td>Karlen McCaffrey</td>\n",
       "      <td>223895</td>\n",
       "      <td>9658</td>\n",
       "      <td>47</td>\n",
       "      <td>23.0</td>\n",
       "      <td>4764.0</td>\n",
       "    </tr>\n",
       "    <tr>\n",
       "      <th>16</th>\n",
       "      <td>Kelci Walkden</td>\n",
       "      <td>311710</td>\n",
       "      <td>8702</td>\n",
       "      <td>54</td>\n",
       "      <td>36.0</td>\n",
       "      <td>5772.0</td>\n",
       "    </tr>\n",
       "    <tr>\n",
       "      <th>17</th>\n",
       "      <td>Madelene Upcott</td>\n",
       "      <td>316099</td>\n",
       "      <td>7279</td>\n",
       "      <td>45</td>\n",
       "      <td>43.0</td>\n",
       "      <td>7024.0</td>\n",
       "    </tr>\n",
       "    <tr>\n",
       "      <th>18</th>\n",
       "      <td>Mallorie Waber</td>\n",
       "      <td>200592</td>\n",
       "      <td>5980</td>\n",
       "      <td>41</td>\n",
       "      <td>34.0</td>\n",
       "      <td>4892.0</td>\n",
       "    </tr>\n",
       "    <tr>\n",
       "      <th>19</th>\n",
       "      <td>Marney O'Breen</td>\n",
       "      <td>259742</td>\n",
       "      <td>8043</td>\n",
       "      <td>45</td>\n",
       "      <td>32.0</td>\n",
       "      <td>5772.0</td>\n",
       "    </tr>\n",
       "    <tr>\n",
       "      <th>20</th>\n",
       "      <td>Oby Sorrel</td>\n",
       "      <td>316645</td>\n",
       "      <td>8608</td>\n",
       "      <td>49</td>\n",
       "      <td>37.0</td>\n",
       "      <td>6462.0</td>\n",
       "    </tr>\n",
       "    <tr>\n",
       "      <th>21</th>\n",
       "      <td>Rafaelita Blaksland</td>\n",
       "      <td>210245</td>\n",
       "      <td>4297</td>\n",
       "      <td>34</td>\n",
       "      <td>49.0</td>\n",
       "      <td>6184.0</td>\n",
       "    </tr>\n",
       "    <tr>\n",
       "      <th>22</th>\n",
       "      <td>Roddy Speechley</td>\n",
       "      <td>251062</td>\n",
       "      <td>6899</td>\n",
       "      <td>43</td>\n",
       "      <td>36.0</td>\n",
       "      <td>5839.0</td>\n",
       "    </tr>\n",
       "    <tr>\n",
       "      <th>23</th>\n",
       "      <td>Van Tuxwell</td>\n",
       "      <td>303149</td>\n",
       "      <td>6799</td>\n",
       "      <td>51</td>\n",
       "      <td>45.0</td>\n",
       "      <td>5944.0</td>\n",
       "    </tr>\n",
       "    <tr>\n",
       "      <th>24</th>\n",
       "      <td>Wilone O'Kielt</td>\n",
       "      <td>138523</td>\n",
       "      <td>4033</td>\n",
       "      <td>34</td>\n",
       "      <td>34.0</td>\n",
       "      <td>4074.0</td>\n",
       "    </tr>\n",
       "  </tbody>\n",
       "</table>\n",
       "</div>"
      ],
      "text/plain": [
       "           Sales Person  total_sales  total_boxes  sales_count  rev_per_box  \\\n",
       "0        Andria Kimpton       201747         6448           39         31.0   \n",
       "1          Barr Faughny       258713         6366           43         41.0   \n",
       "2        Beverie Moffet       278922         9214           50         30.0   \n",
       "3           Brien Boise       312816         8102           53         39.0   \n",
       "4        Camilla Castle       196616         5374           32         37.0   \n",
       "5          Ches Bonnell       320901         7522           48         43.0   \n",
       "6        Curtice Advani       216461         7074           46         31.0   \n",
       "7   Dennison Crosswaite       291669         8767           49         33.0   \n",
       "8        Dotty Strutley       190624         6853           36         28.0   \n",
       "9          Gigi Bohling       232666         6303           47         37.0   \n",
       "10      Gunar Cockshoot       238483         6677           43         36.0   \n",
       "11         Husein Augar       205212         5849           38         35.0   \n",
       "12         Jan Morforth       219667         7661           39         29.0   \n",
       "13       Jehu Rudeforth       220976         7246           43         30.0   \n",
       "14          Kaine Padly       266490         7253           45         37.0   \n",
       "15     Karlen McCaffrey       223895         9658           47         23.0   \n",
       "16        Kelci Walkden       311710         8702           54         36.0   \n",
       "17      Madelene Upcott       316099         7279           45         43.0   \n",
       "18       Mallorie Waber       200592         5980           41         34.0   \n",
       "19       Marney O'Breen       259742         8043           45         32.0   \n",
       "20           Oby Sorrel       316645         8608           49         37.0   \n",
       "21  Rafaelita Blaksland       210245         4297           34         49.0   \n",
       "22      Roddy Speechley       251062         6899           43         36.0   \n",
       "23          Van Tuxwell       303149         6799           51         45.0   \n",
       "24       Wilone O'Kielt       138523         4033           34         34.0   \n",
       "\n",
       "    rev_per_sale  \n",
       "0         5173.0  \n",
       "1         6017.0  \n",
       "2         5578.0  \n",
       "3         5902.0  \n",
       "4         6144.0  \n",
       "5         6685.0  \n",
       "6         4706.0  \n",
       "7         5952.0  \n",
       "8         5295.0  \n",
       "9         4950.0  \n",
       "10        5546.0  \n",
       "11        5400.0  \n",
       "12        5632.0  \n",
       "13        5139.0  \n",
       "14        5922.0  \n",
       "15        4764.0  \n",
       "16        5772.0  \n",
       "17        7024.0  \n",
       "18        4892.0  \n",
       "19        5772.0  \n",
       "20        6462.0  \n",
       "21        6184.0  \n",
       "22        5839.0  \n",
       "23        5944.0  \n",
       "24        4074.0  "
      ]
     },
     "execution_count": 56,
     "metadata": {},
     "output_type": "execute_result"
    }
   ],
   "source": [
    "sales_df"
   ]
  },
  {
   "cell_type": "markdown",
   "id": "ffe4a972",
   "metadata": {},
   "source": [
    "### Things Learned and Ideas for next time"
   ]
  },
  {
   "cell_type": "markdown",
   "id": "9642429c",
   "metadata": {},
   "source": [
    "**Learned**\n",
    "- Learned some new groupby stuff that made aggregating the data how I wanted much easier. Specifically with the custom columns and agg applied to that column.\n",
    "- I can use regex in the replace method\n",
    "\n",
    "**Ideas for next Time**\n",
    "- Scoring/ranking system for sales. When determining performance I realized that just top sales alone did not tell the full story. I want to look into taking all the above data into account and create a performance score to determine the best performing sales person.\n",
    "\n",
    "- Lots to learn still about the actual products, and countries in which products sold.\n",
    "\n",
    "***More analysis ideas***\n",
    "- Sales per country and product. \n",
    "- Best sales person per product and country\n",
    "- Best value product (balance of popularity and price?)"
   ]
  },
  {
   "cell_type": "markdown",
   "id": "f6402e79",
   "metadata": {},
   "source": []
  }
 ],
 "metadata": {
  "kernelspec": {
   "display_name": "base",
   "language": "python",
   "name": "python3"
  },
  "language_info": {
   "codemirror_mode": {
    "name": "ipython",
    "version": 3
   },
   "file_extension": ".py",
   "mimetype": "text/x-python",
   "name": "python",
   "nbconvert_exporter": "python",
   "pygments_lexer": "ipython3",
   "version": "3.10.9"
  }
 },
 "nbformat": 4,
 "nbformat_minor": 5
}
