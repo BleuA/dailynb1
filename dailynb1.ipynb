{
 "cells": [
  {
   "cell_type": "markdown",
   "id": "0b77ea1e",
   "metadata": {},
   "source": [
    "# Daily Notebook #1"
   ]
  },
  {
   "cell_type": "markdown",
   "id": "b2b2a92c",
   "metadata": {},
   "source": [
    "### Current State"
   ]
  },
  {
   "cell_type": "markdown",
   "id": "af78e63f",
   "metadata": {},
   "source": [
    "- Current Course: Data Analyst in Python: Data Manipulation\n",
    "- Todays Notes: learned various basics of data manipulation. I am already comfortable with most of it, but using the notebook today to practice.\n",
    "\n"
   ]
  },
  {
   "cell_type": "markdown",
   "id": "3f953e15",
   "metadata": {},
   "source": [
    "### Goals"
   ]
  },
  {
   "cell_type": "markdown",
   "id": "5b573292",
   "metadata": {},
   "source": [
    "- The main goal is to code/analyze data everyday. Over the years I have chipped away at schooling and courses, but dont keep up to date with skills as much as I should. \n",
    "- Also: Want to get more comfortable in the notebooks/github process. have not used github very much, want to change that with this project\n",
    "- Overall, keeping the notebooks/formatting very quick and simple. The goal is to code, not to format every single detail."
   ]
  },
  {
   "cell_type": "markdown",
   "id": "74aaa812",
   "metadata": {},
   "source": [
    "### Dataset for today"
   ]
  },
  {
   "cell_type": "markdown",
   "id": "c43b910c",
   "metadata": {},
   "source": [
    "kaggle"
   ]
  },
  {
   "cell_type": "markdown",
   "id": "be3446d9",
   "metadata": {},
   "source": []
  }
 ],
 "metadata": {
  "language_info": {
   "name": "python"
  }
 },
 "nbformat": 4,
 "nbformat_minor": 5
}
